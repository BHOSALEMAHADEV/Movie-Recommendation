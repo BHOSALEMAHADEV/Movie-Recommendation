{
  "cells": [
    {
      "cell_type": "markdown",
      "metadata": {
        "id": "view-in-github",
        "colab_type": "text"
      },
      "source": [
        "<a href=\"https://colab.research.google.com/github/BHOSALEMAHADEV/Movie-Recommendation/blob/main/Welcome_To_Colab.ipynb\" target=\"_parent\"><img src=\"https://colab.research.google.com/assets/colab-badge.svg\" alt=\"Open In Colab\"/></a>"
      ]
    },
    {
      "cell_type": "code",
      "source": [
        "import pandas as pd\n",
        "import numpy as np\n",
        "from scipy.sparse.linalg import svds\n",
        "\n",
        "# Load datasets\n",
        "movies = pd.read_csv(\"/content/movies.csv\")\n",
        "ratings = pd.read_csv(\"/content/ratings.csv\")\n",
        "\n",
        "# Create user-item rating matrix\n",
        "ratings_matrix = ratings.pivot(index='userId', columns='movieId', values='rating').fillna(0)\n",
        "\n",
        "# Convert to numpy array for SVD\n",
        "ratings_np = ratings_matrix.to_numpy()\n",
        "\n",
        "# Apply SVD (Singular Value Decomposition)\n",
        "U, sigma, Vt = svds(ratings_np, k=50)  # Keeping 50 latent factors\n",
        "sigma = np.diag(sigma)\n",
        "\n",
        "# Reconstruct the ratings matrix\n",
        "predicted_ratings = np.dot(np.dot(U, sigma), Vt)\n",
        "\n",
        "# Convert back to DataFrame\n",
        "predicted_ratings_df = pd.DataFrame(predicted_ratings, index=ratings_matrix.index, columns=ratings_matrix.columns)\n",
        "\n",
        "def recommend_movies(user_id, num_recommendations=5):\n",
        "    # Get predicted ratings for the user\n",
        "    user_ratings = predicted_ratings_df.loc[user_id]\n",
        "\n",
        "    # Sort movies by predicted rating in descending order\n",
        "    recommended_movie_ids = user_ratings.sort_values(ascending=False).index[:num_recommendations]\n",
        "\n",
        "    # Get movie titles\n",
        "    recommended_movies = movies[movies['movieId'].isin(recommended_movie_ids)]\n",
        "\n",
        "    return recommended_movies[['movieId', 'title']]\n",
        "\n",
        "# Example: Recommend top 5 movies for user ID 1\n",
        "print(recommend_movies(user_id=1, num_recommendations=5))\n"
      ],
      "metadata": {
        "colab": {
          "base_uri": "https://localhost:8080/"
        },
        "id": "C4Fb-kIDRLJZ",
        "outputId": "391e7252-9116-4974-81d5-f3df087556b1"
      },
      "execution_count": 2,
      "outputs": [
        {
          "output_type": "stream",
          "name": "stdout",
          "text": [
            "      movieId                             title\n",
            "260       296               Pulp Fiction (1994)\n",
            "279       318  Shawshank Redemption, The (1994)\n",
            "525       593  Silence of the Lambs, The (1991)\n",
            "695       858             Godfather, The (1972)\n",
            "2056     2571                Matrix, The (1999)\n"
          ]
        }
      ]
    }
  ],
  "metadata": {
    "colab": {
      "name": "Welcome To Colab",
      "provenance": [],
      "include_colab_link": true
    },
    "kernelspec": {
      "display_name": "Python 3",
      "name": "python3"
    }
  },
  "nbformat": 4,
  "nbformat_minor": 0
}